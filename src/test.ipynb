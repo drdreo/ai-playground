{
 "cells": [
  {
   "cell_type": "code",
   "execution_count": 1,
   "id": "e9b87c31-934b-45fa-8c4f-b371884bc2cf",
   "metadata": {},
   "outputs": [],
   "source": [
    "import Anthropic from \"@anthropic-ai/sdk\";\n",
    "const anthropic = new Anthropic({\n",
    "\tapiKey: Deno.env.get(\"ANTHROPIC_API_KEY\"),\n",
    "});"
   ]
  },
  {
   "cell_type": "code",
   "execution_count": 2,
   "id": "3253d4a8-2f11-42a0-8b11-42221362261f",
   "metadata": {},
   "outputs": [
    {
     "name": "stdout",
     "output_type": "stream",
     "text": [
      "\u001b[90mundefined\u001b[39m\n"
     ]
    }
   ],
   "source": [
    "console.log(Deno.env.get(\"ANTHROPIC_API_KEY\"));"
   ]
  },
  {
   "cell_type": "code",
   "execution_count": 3,
   "id": "07957e17-0ffa-46ab-ba98-ddb0884f0546",
   "metadata": {},
   "outputs": [
    {
     "data": {
      "text/html": [
       "<b>Proompting...</b>"
      ]
     },
     "metadata": {},
     "output_type": "display_data"
    },
    {
     "ename": "Error",
     "evalue": "Could not resolve authentication method. Expected either apiKey or authToken to be set. Or for one of the \"X-Api-Key\" or \"Authorization\" headers to be explicitly omitted",
     "output_type": "error",
     "traceback": [
      "Stack trace:",
      "Error: Could not resolve authentication method. Expected either apiKey or authToken to be set. Or for one of the \"X-Api-Key\" or \"Authorization\" headers to be explicitly omitted",
      "    at Anthropic.validateHeaders (file:///C:/Users/Andreas/AppData/Local/deno/npm/registry.npmjs.org/@anthropic-ai/sdk/0.32.1/index.mjs:79:15)",
      "    at Anthropic.buildHeaders (file:///C:/Users/Andreas/AppData/Local/deno/npm/registry.npmjs.org/@anthropic-ai/sdk/0.32.1/core.mjs:254:14)",
      "    at Anthropic.buildRequest (file:///C:/Users/Andreas/AppData/Local/deno/npm/registry.npmjs.org/@anthropic-ai/sdk/0.32.1/core.mjs:223:33)",
      "    at Anthropic.makeRequest (file:///C:/Users/Andreas/AppData/Local/deno/npm/registry.npmjs.org/@anthropic-ai/sdk/0.32.1/core.mjs:287:44)",
      "    at eventLoopTick (ext:core/01_core.js:175:7)",
      "    at async <anonymous>:10:13"
     ]
    }
   ],
   "source": [
    "await Deno.jupyter.broadcast(\"display_data\", {\n",
    "\tdata: { \"text/html\": \"<b>Proompting...</b>\" },\n",
    "\tmetadata: {},\n",
    "\ttransient: { display_id: \"progress\" },\n",
    "});\n",
    "const msg = await anthropic.messages.create({\n",
    "\tmodel: \"claude-3-5-sonnet-20241022\",\n",
    "\tmax_tokens: 1024,\n",
    "\tmessages: [{\n",
    "\t\trole: \"user\",\n",
    "\t\tcontent: \"hello, im here now, calling in from Deno\",\n",
    "\t}],\n",
    "});\n",
    "await Deno.jupyter.broadcast(\"update_display_data\", {\n",
    "\tdata: { \"text/html\": \"<b>Done</b>\" },\n",
    "\tmetadata: {},\n",
    "\ttransient: { display_id: \"progress\" },\n",
    "});"
   ]
  },
  {
   "cell_type": "code",
   "execution_count": null,
   "id": "f1ed2f6a-ef69-4321-a2b3-b7bdf72e277f",
   "metadata": {},
   "outputs": [],
   "source": [
    "console.log(msg.content[0].text);"
   ]
  }
 ],
 "metadata": {
  "kernelspec": {
   "display_name": "Deno",
   "language": "typescript",
   "name": "deno"
  },
  "language_info": {
   "codemirror_mode": "typescript",
   "file_extension": ".ts",
   "mimetype": "text/x.typescript",
   "name": "typescript",
   "nbconvert_exporter": "script",
   "pygments_lexer": "typescript",
   "version": "5.6.2"
  }
 },
 "nbformat": 4,
 "nbformat_minor": 5
}
